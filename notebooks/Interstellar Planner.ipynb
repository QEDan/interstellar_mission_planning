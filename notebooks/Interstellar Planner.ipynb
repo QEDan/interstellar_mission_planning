{
 "cells": [
  {
   "cell_type": "code",
   "execution_count": 1,
   "metadata": {},
   "outputs": [
    {
     "name": "stdout",
     "output_type": "stream",
     "text": [
      "Collecting scimath\n",
      "  Downloading scimath-4.2.0.tar.gz (89 kB)\n",
      "\u001b[K     |████████████████████████████████| 89 kB 594 kB/s eta 0:00:01\n",
      "\u001b[?25hCollecting traits\n",
      "  Downloading traits-6.1.1.tar.gz (567 kB)\n",
      "\u001b[K     |████████████████████████████████| 567 kB 207 kB/s eta 0:00:01\n",
      "\u001b[?25hRequirement already satisfied: scipy in /media/linstore/Software/anaconda3/envs/tf_2.2/lib/python3.7/site-packages (from scimath) (1.4.1)\n",
      "Requirement already satisfied: numpy>=1.13.3 in /media/linstore/Software/anaconda3/envs/tf_2.2/lib/python3.7/site-packages (from scipy->scimath) (1.18.4)\n",
      "Building wheels for collected packages: scimath, traits\n",
      "  Building wheel for scimath (setup.py) ... \u001b[?25ldone\n",
      "\u001b[?25h  Created wheel for scimath: filename=scimath-4.2.0-cp37-cp37m-linux_x86_64.whl size=162027 sha256=6c4809c6e1c817a96bddfe45dd16a9c73d4b590c3aab7e314f69fa2f1601d546\n",
      "  Stored in directory: /media/linstore/symbolic_links/home_mazur_cache/pip/wheels/dd/98/dd/58838adeac022e14b81125973d20a9a3395c300402ecc48c8d\n",
      "  Building wheel for traits (setup.py) ... \u001b[?25ldone\n",
      "\u001b[?25h  Created wheel for traits: filename=traits-6.1.1-cp37-cp37m-linux_x86_64.whl size=538450 sha256=8431eab04f969e6f563a8cdd24f78746b8c7bc84b2c5e68166c2b39b5e4f38fc\n",
      "  Stored in directory: /media/linstore/symbolic_links/home_mazur_cache/pip/wheels/8b/64/2c/b5f981e926c21043db05140e1b6b524c655e894e4c3d72ed65\n",
      "Successfully built scimath traits\n",
      "Installing collected packages: traits, scimath\n",
      "Successfully installed scimath-4.2.0 traits-6.1.1\n"
     ]
    }
   ],
   "source": [
    "!pip install scimath"
   ]
  },
  {
   "cell_type": "code",
   "execution_count": 23,
   "metadata": {},
   "outputs": [],
   "source": [
    "from scimath.units.length import meters as m\n",
    "from scimath.units.length import kilometers as km\n",
    "from scimath.units.length import light_year as ly\n",
    "from scimath.units.mass import kilograms as kg\n",
    "from scimath.units.time import seconds as s\n",
    "import numpy as np"
   ]
  },
  {
   "cell_type": "code",
   "execution_count": 12,
   "metadata": {},
   "outputs": [],
   "source": [
    "G = 6.674e-11 * m**3 / kg / s**2\n",
    "c = 299792458 * m / s\n",
    "solar_mass = 1.98847e30 * kg"
   ]
  },
  {
   "cell_type": "code",
   "execution_count": 18,
   "metadata": {},
   "outputs": [
    {
     "name": "stdout",
     "output_type": "stream",
     "text": [
      "42065.10633133674*m*s**-1\n"
     ]
    }
   ],
   "source": [
    "def v_escape_solar(departure_distance):\n",
    "    v = (2 * G * solar_mass / departure_distance)**0.5\n",
    "    return v\n",
    "\n",
    "print(v_escape_solar(150e6 * km))"
   ]
  },
  {
   "cell_type": "code",
   "execution_count": 26,
   "metadata": {},
   "outputs": [],
   "source": [
    "class Starship:\n",
    "    def __init__(self,\n",
    "                 payload_mass,\n",
    "                 fuel_mass,\n",
    "                 initial_velocity = 0 * m / s,\n",
    "                 initial_position = 0 * km,\n",
    "                 initial_time = 0 * s,\n",
    "                 exhaust_velocity = 500 * km / s,\n",
    "                 destination_distance = 4.244 * ly\n",
    "                 ):\n",
    "        self.payload_mass = payload_mass\n",
    "        self.fuel_mass = fuel_mass\n",
    "        self.velocity = initial_velocity\n",
    "        self.position = initial_position\n",
    "        self.time = initial_time\n",
    "        self.exhaust_velocity = exhaust_velocity\n",
    "        self.history = list()\n",
    "        self.log_entry()\n",
    "        \n",
    "    def log_entry(self):\n",
    "        new_log = {'time': self.time,\n",
    "                   'distance': self.distance,\n",
    "                   'velocity': self.velocity,\n",
    "                   'fuel_mass': self.fuel_mass}\n",
    "        self.history.append(new_log)\n",
    "        \n",
    "    def total_mass(self):\n",
    "        return self.payload_mass + self.fuel_mass\n",
    "        \n",
    "    def accelerate(self,\n",
    "                   target_velocity = 0 * km / s, \n",
    "                   fuel_mass = None,\n",
    "                   decelerate = False):\n",
    "        if fuel_mass is not None:\n",
    "            if fuel_mass > self.fuel_mass:\n",
    "                raise ValueError(f\"Not enough fuel for this maneuver. Requested {fuel_mass} of {self.fuel_mass}.\")\n",
    "            delta_v = self.exhaust_velocity * np.log(self.total_mass / (self.total_mass - fuel_mass))\n",
    "            if decelerate:\n",
    "                self.velocity += delta_v\n",
    "            else:\n",
    "                self.velocity += delta_v\n",
    "            self.fuel_mass -= fuel_mass\n",
    "        \n",
    "        else:\n",
    "            final_mass = self.total_mass() * np.exp(-1 * np.abs(self.velocity - target_velocity) / self.exhaust_velocity)\n",
    "            delta_fuel_mass = self.total_mass() - final_mass\n",
    "            self.fuel_mass -= delta_fuel_mass\n",
    "            if self.fuel_mass < 0:\n",
    "                raise ValueError(f\"Note enough fuel for this maneuver. Requested {delta_fuel_mass} of {self.fuel_mass + delta_fuel_mass}.\")\n",
    "            \n",
    "            self.velocity = target_velocity\n",
    "            \n",
    "        self.log_entry()\n",
    "            \n",
    "        return self.velocity\n",
    "    \n",
    "    def cruise(self, distance):\n",
    "        self.position += distance\n",
    "        self.time += distance / self.velocity\n",
    "        self.log_entry()\n",
    "        \n",
    "    def print_history(self):\n",
    "        print(self.history)\n",
    "        \n",
    "    def plot_history(self):\n",
    "        pass\n",
    "    \n",
    "        "
   ]
  },
  {
   "cell_type": "code",
   "execution_count": null,
   "metadata": {},
   "outputs": [],
   "source": []
  }
 ],
 "metadata": {
  "kernelspec": {
   "display_name": "Python 3",
   "language": "python",
   "name": "python3"
  },
  "language_info": {
   "codemirror_mode": {
    "name": "ipython",
    "version": 3
   },
   "file_extension": ".py",
   "mimetype": "text/x-python",
   "name": "python",
   "nbconvert_exporter": "python",
   "pygments_lexer": "ipython3",
   "version": "3.7.7"
  }
 },
 "nbformat": 4,
 "nbformat_minor": 4
}
