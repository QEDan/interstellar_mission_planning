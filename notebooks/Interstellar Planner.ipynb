{
 "cells": [
  {
   "cell_type": "code",
   "execution_count": 58,
   "metadata": {},
   "outputs": [],
   "source": [
    "from scimath.units.length import meters as m\n",
    "from scimath.units.length import kilometers as km\n",
    "from scimath.units.length import light_year as ly\n",
    "from scimath.units.mass import kilograms as kg\n",
    "from scimath.units.time import seconds as s\n",
    "from scimath.units.time import years as yr\n",
    "import numpy as np\n",
    "import matplotlib.pyplot as plt\n",
    "%matplotlib inline"
   ]
  },
  {
   "cell_type": "code",
   "execution_count": 27,
   "metadata": {},
   "outputs": [],
   "source": [
    "G = 6.674e-11 * m**3 / kg / s**2\n",
    "c = 299792458 * m / s\n",
    "solar_mass = 1.98847e30 * kg"
   ]
  },
  {
   "cell_type": "code",
   "execution_count": 28,
   "metadata": {},
   "outputs": [],
   "source": [
    "def v_escape_solar(departure_distance):\n",
    "    v = (2 * G * solar_mass / departure_distance)**0.5\n",
    "    return v"
   ]
  },
  {
   "cell_type": "code",
   "execution_count": 119,
   "metadata": {},
   "outputs": [],
   "source": [
    "class Starship:\n",
    "    def __init__(self,\n",
    "                 payload_mass,\n",
    "                 fuel_mass,\n",
    "                 initial_velocity = 0 * m / s,\n",
    "                 initial_position = 0 * km,\n",
    "                 initial_time = 0 * s,\n",
    "                 exhaust_velocity = 500 * km / s,\n",
    "                 destination_distance = 4.244 * ly\n",
    "                 ):\n",
    "        self.payload_mass = payload_mass\n",
    "        self.fuel_mass = fuel_mass\n",
    "        self.velocity = initial_velocity\n",
    "        self.position = initial_position\n",
    "        self.time = initial_time\n",
    "        self.exhaust_velocity = exhaust_velocity\n",
    "        self.destination_distance = destination_distance\n",
    "        self.history = list()\n",
    "        self.log_entry()\n",
    "        \n",
    "    def log_entry(self):\n",
    "        new_log = {'time': self.time,\n",
    "                   'position': self.position,\n",
    "                   'velocity': self.velocity,\n",
    "                   'fuel_mass': self.fuel_mass}\n",
    "        self.history.append(new_log)\n",
    "        \n",
    "    def total_mass(self):\n",
    "        return self.payload_mass + self.fuel_mass\n",
    "        \n",
    "    def accelerate(self,\n",
    "                   target_velocity = 0 * km / s, \n",
    "                   fuel_mass = None,\n",
    "                   decelerate = False):\n",
    "        if fuel_mass is not None:\n",
    "            if fuel_mass / kg > self.fuel_mass / kg:\n",
    "                raise ValueError(f\"Not enough fuel for this maneuver. Requested {fuel_mass} of {self.fuel_mass}.\")\n",
    "            delta_v = self.exhaust_velocity * np.log(self.total_mass() / (self.total_mass() - fuel_mass))\n",
    "            if decelerate:\n",
    "                self.velocity -= delta_v\n",
    "            else:\n",
    "                self.velocity += delta_v\n",
    "            self.fuel_mass -= fuel_mass\n",
    "        \n",
    "        else:\n",
    "            final_mass = self.total_mass() * np.exp(-1 * np.abs(self.velocity - target_velocity) / self.exhaust_velocity)\n",
    "            delta_fuel_mass = self.total_mass() - final_mass\n",
    "            self.fuel_mass -= delta_fuel_mass\n",
    "            if self.fuel_mass / kg < 0:\n",
    "                raise ValueError(f\"Note enough fuel for this maneuver. Requested {delta_fuel_mass} of {self.fuel_mass + delta_fuel_mass}.\")\n",
    "            \n",
    "            self.velocity = target_velocity\n",
    "            \n",
    "        self.log_entry()\n",
    "            \n",
    "        return self.velocity\n",
    "    \n",
    "    def cruise(self, distance):\n",
    "        if self.velocity == 0:\n",
    "            raise ValueError(f\"The starship is not moving. Can't cruise.\")\n",
    "        self.position += distance\n",
    "        self.time += distance / self.velocity\n",
    "        self.log_entry()\n",
    "        \n",
    "    def wait(self, time):\n",
    "        self.time += time\n",
    "        self.log_entry()\n",
    "        \n",
    "    def print_history(self):\n",
    "        for log in self.history:\n",
    "            log = log.copy()\n",
    "            \n",
    "            print(log)\n",
    "        \n",
    "    def parse_logs(self):\n",
    "        positions = []\n",
    "        velocities = []\n",
    "        fuels = []\n",
    "        times = []\n",
    "        for log in self.history:\n",
    "            positions.append(log['position'] / ly)\n",
    "            velocities.append(log['velocity'] / c)\n",
    "            fuels.append(log['fuel_mass'] / kg)\n",
    "            times.append(log['time'] / yr)\n",
    "        return positions, velocities, fuels, times\n",
    "        \n",
    "    def plot_history(self):\n",
    "        positions, velocities, fuels, times = self.parse_logs()\n",
    "        fig = plt.figure(figsize=(12, 12))\n",
    "        plt.subplot(311)\n",
    "        plt.plot(times, velocities)\n",
    "        plt.xlabel('Time (years)')\n",
    "        plt.ylabel('Velocity (c)')\n",
    "        plt.subplot(312)\n",
    "        plt.plot(times, fuels)\n",
    "        plt.xlabel('Time (years)')\n",
    "        plt.ylabel('Fuel Mass (kg)')\n",
    "        plt.subplot(313)\n",
    "        plt.plot(times, positions)\n",
    "        plt.xlabel('Time (years)')\n",
    "        plt.ylabel('Position (light years)')\n",
    "        plt.hlines(self.destination_distance / ly, \n",
    "                   min(times),\n",
    "                   max(times),\n",
    "                   label='Destination',\n",
    "                   linestyles='dashed')\n",
    "        plt.legend()\n",
    "        return fig\n",
    "        "
   ]
  },
  {
   "cell_type": "code",
   "execution_count": 138,
   "metadata": {},
   "outputs": [
    {
     "name": "stdout",
     "output_type": "stream",
     "text": [
      "{'time': 0.0*s, 'position': 0.0*m, 'velocity': 0.0*m*s**-1, 'fuel_mass': 1000.0*kg}\n",
      "{'time': 315576000.0*s, 'position': 0.0*m, 'velocity': 0.0*m*s**-1, 'fuel_mass': 1000.0*kg}\n",
      "{'time': 315576000.0*s, 'position': 0.0*m, 'velocity': 1146817.1312369807*m*s**-1, 'fuel_mass': 100.0*kg}\n",
      "{'time': 35323982228.37163*s, 'position': 4.014824e+16*m, 'velocity': 1146817.1312369807*m*s**-1, 'fuel_mass': 100.0*kg}\n",
      "{'time': 35323982228.37163*s, 'position': 4.014824e+16*m, 'velocity': 0.0*m*s**-1, 'fuel_mass': 9.19080919080919*kg}\n",
      "{'time': 35639558228.37163*s, 'position': 4.014824e+16*m, 'velocity': 0.0*m*s**-1, 'fuel_mass': 9.19080919080919*kg}\n"
     ]
    }
   ],
   "source": [
    "ss = Starship(1.0 * kg, 1000.0 * kg)\n",
    "ss.wait(10 * yr)\n",
    "ss.accelerate(fuel_mass = 900 * kg)\n",
    "ss.cruise(ss.destination_distance)\n",
    "ss.accelerate(decelerate=True)\n",
    "ss.wait(10 * yr)\n",
    "ss.print_history()\n"
   ]
  },
  {
   "cell_type": "code",
   "execution_count": 139,
   "metadata": {},
   "outputs": [
    {
     "name": "stderr",
     "output_type": "stream",
     "text": [
      "/home/mazur/linstore/Software/anaconda3/envs/tf_2.2/lib/python3.7/site-packages/ipykernel_launcher.py:2: UserWarning: Matplotlib is currently using module://ipykernel.pylab.backend_inline, which is a non-GUI backend, so cannot show the figure.\n",
      "  \n"
     ]
    },
    {
     "data": {
      "image/png": "[encoded data removed]",
      "text/plain": [
       "<Figure size 864x864 with 3 Axes>"
      ]
     },
     "metadata": {
      "needs_background": "light"
     },
     "output_type": "display_data"
    }
   ],
   "source": [
    "fig = ss.plot_history()\n",
    "fig.show()"
   ]
  },
  {
   "cell_type": "code",
   "execution_count": 135,
   "metadata": {},
   "outputs": [
    {
     "data": {
      "text/plain": [
       "9.19080919080919*kg"
      ]
     },
     "execution_count": 135,
     "metadata": {},
     "output_type": "execute_result"
    }
   ],
   "source": [
    "ss.fuel_mass"
   ]
  },
  {
   "cell_type": "code",
   "execution_count": 137,
   "metadata": {},
   "outputs": [],
   "source": [
    "fig.savefig('../images/proxima_centauri.png')"
   ]
  },
  {
   "cell_type": "code",
   "execution_count": 140,
   "metadata": {},
   "outputs": [
    {
     "data": {
      "text/plain": [
       "1129.3494507938383"
      ]
     },
     "execution_count": 140,
     "metadata": {},
     "output_type": "execute_result"
    }
   ],
   "source": [
    "ss.time / yr"
   ]
  },
  {
   "cell_type": "code",
   "execution_count": null,
   "metadata": {},
   "outputs": [],
   "source": []
  }
 ],
 "metadata": {
  "kernelspec": {
   "display_name": "Python 3",
   "language": "python",
   "name": "python3"
  },
  "language_info": {
   "codemirror_mode": {
    "name": "ipython",
    "version": 3
   },
   "file_extension": ".py",
   "mimetype": "text/x-python",
   "name": "python",
   "nbconvert_exporter": "python",
   "pygments_lexer": "ipython3",
   "version": "3.7.7"
  }
 },
 "nbformat": 4,
 "nbformat_minor": 4
}
