{
 "cells": [
  {
   "cell_type": "code",
   "execution_count": 1,
   "metadata": {},
   "outputs": [],
   "source": [
    "from scimath.units.length import meters as m\n",
    "from scimath.units.length import kilometers as km\n",
    "from scimath.units.length import light_year as ly\n",
    "from scimath.units.mass import kilograms as kg\n",
    "from scimath.units.time import seconds as s\n",
    "from scimath.units.time import years as yr\n",
    "import numpy as np\n",
    "import matplotlib.pyplot as plt\n",
    "%matplotlib inline"
   ]
  },
  {
   "cell_type": "code",
   "execution_count": 2,
   "metadata": {},
   "outputs": [],
   "source": [
    "G = 6.674e-11 * m**3 / kg / s**2\n",
    "c = 299792458 * m / s\n",
    "solar_mass = 1.98847e30 * kg\n",
    "g = 9.81 * m / (s**2)"
   ]
  },
  {
   "cell_type": "code",
   "execution_count": 3,
   "metadata": {},
   "outputs": [],
   "source": [
    "def v_escape_solar(departure_distance):\n",
    "    v = (2 * G * solar_mass / departure_distance)**0.5\n",
    "    return v"
   ]
  },
  {
   "cell_type": "code",
   "execution_count": 96,
   "metadata": {},
   "outputs": [],
   "source": [
    "class Starship:\n",
    "    \"\"\"A Starship that burns fuel to accelerate.\n",
    "    \n",
    "    This assumes constant accelerations and nonrelativistic speeds.\n",
    "    \"\"\"\n",
    "    def __init__(self,\n",
    "                 payload_mass,\n",
    "                 fuel_mass,\n",
    "                 initial_velocity = 0 * m / s,\n",
    "                 initial_position = 0 * km,\n",
    "                 initial_time = 0 * s,\n",
    "                 exhaust_velocity = 500 * km / s,\n",
    "                 destination_distance = 4.244 * ly\n",
    "                 ):\n",
    "        self.payload_mass = payload_mass\n",
    "        self.fuel_mass = fuel_mass\n",
    "        self.velocity = initial_velocity\n",
    "        self.position = initial_position\n",
    "        self.time = initial_time\n",
    "        self.exhaust_velocity = exhaust_velocity\n",
    "        self.destination_distance = destination_distance\n",
    "        self.history = list()\n",
    "        self.log_messages = list()\n",
    "        self.log_entry()\n",
    "        \n",
    "        \n",
    "    def log_entry(self, message: str = ''):\n",
    "        new_log = {'time': self.time,\n",
    "                   'position': self.position,\n",
    "                   'velocity': self.velocity,\n",
    "                   'fuel_mass': self.fuel_mass}\n",
    "        self.history.append(new_log)\n",
    "        self.log_messages.append(message)\n",
    "        \n",
    "    def total_mass(self):\n",
    "        return self.payload_mass + self.fuel_mass\n",
    "        \n",
    "    def accelerate(self,\n",
    "                   target_velocity = 0 * km / s, \n",
    "                   fuel_mass = None,\n",
    "                   decelerate = False,\n",
    "                   acceleration = g):\n",
    "        \"\"\"Accelerate the ship by burning a specified quantity of fuel.\n",
    "        \n",
    "        If no fuel mass is specified, a target_velocity should be specified instead.\n",
    "        \n",
    "        Args:\n",
    "            target_velocity: unit (speed)\n",
    "                Target velocity to accelerate to.\n",
    "            fuel_mass: unit (mass)\n",
    "                Amount of fuel mass to burn\n",
    "            decelerate: bool\n",
    "                If True, acceleration is toward the origin. If False, acceleration is toward the destination\n",
    "                \n",
    "        Returns:\n",
    "            unit (speed)\n",
    "                New velocity of the starship\n",
    "        \"\"\"\n",
    "        if fuel_mass is not None:\n",
    "            if fuel_mass / kg > self.fuel_mass / kg:\n",
    "                raise ValueError(f\"Not enough fuel for this maneuver. Requested {fuel_mass} of {self.fuel_mass}.\")\n",
    "            delta_v = self.exhaust_velocity * np.log(self.total_mass() / (self.total_mass() - fuel_mass))\n",
    "            delta_t = np.abs(delta_v) / g\n",
    "            self.time += delta_t\n",
    "            if decelerate:\n",
    "                delta_pos = self.velocity * delta_t - 0.5 * acceleration * delta_t ** 2\n",
    "                self.velocity -= delta_v\n",
    "            else:\n",
    "                delta_pos = self.velocity * delta_t + 0.5 * acceleration * delta_t ** 2\n",
    "                self.velocity += delta_v\n",
    "            self.time += np.abs(delta_v) / g\n",
    "            self.position += delta_pos\n",
    "            self.fuel_mass -= fuel_mass\n",
    "            \n",
    "        \n",
    "        else:\n",
    "            final_mass = self.total_mass() * np.exp(-1 * np.abs(self.velocity - target_velocity) / self.exhaust_velocity)\n",
    "            delta_fuel_mass = self.total_mass() - final_mass\n",
    "            self.fuel_mass -= delta_fuel_mass\n",
    "            if self.fuel_mass / kg < 0:\n",
    "                raise ValueError(f\"Note enough fuel for this maneuver. Requested {delta_fuel_mass} of {self.fuel_mass + delta_fuel_mass}.\")\n",
    "            \n",
    "            delta_v = target_velocity - self.velocity\n",
    "            delta_t = np.abs(delta_v) / g\n",
    "            if decelerate:\n",
    "                delta_pos = self.velocity * delta_t - 0.5 * acceleration * delta_t ** 2\n",
    "            else:\n",
    "                delta_pos = self.velocity * delta_t + 0.5 * acceleration * delta_t ** 2\n",
    "            self.time += delta_t\n",
    "            self.velocity = target_velocity\n",
    "            self.position += delta_pos\n",
    "            \n",
    "        if abs(self.velocity / c) > 0.5:\n",
    "            raise NotImplementedError(\"This ship is travelling at reletivistic speeds. This is not currently supported.\")\n",
    "            \n",
    "        self.log_entry(\n",
    "            f\"year {(self.time - delta_t) / yr:0.1f} - Acceleration: {acceleration / g:0.1f} g for {delta_t / yr:0.2e} years. \"\n",
    "            f\" New velocity is {self.velocity / c:0.2e} c. \"\n",
    "            f\" {self.fuel_mass / kg:0.2e} kg of fuel remaining.\"\n",
    "        )\n",
    "            \n",
    "        return self.velocity\n",
    "    \n",
    "    def cruise(self, distance):\n",
    "        if self.velocity == 0:\n",
    "            raise ValueError(f\"The starship is not moving. Can't cruise.\")\n",
    "        delta_pos = distance * np.sign(self.velocity / (m / s))\n",
    "        delta_t = np.abs(distance / self.velocity)\n",
    "        self.position += delta_pos\n",
    "        self.time += delta_t\n",
    "        self.log_entry(\n",
    "            f\"year {(self.time - delta_t) / yr:0.1f} - Cruise: {delta_t / yr:0.2e} years to complete. \"\n",
    "            f\"Distance={distance / ly:0.2e} lightyears\")\n",
    "        \n",
    "    def wait(self, time):\n",
    "        self.time += time\n",
    "        distance = self.velocity * time\n",
    "        self.position += distance\n",
    "        self.log_entry(\n",
    "            f\"year {(self.time - time) / yr:0.1f} - Waited: {time / yr:0.2e} years. \"\n",
    "            f\"Distance={distance / ly:0.2e} lightyears\")\n",
    "        \n",
    "    def print_history(self):\n",
    "        for log, message in zip(self.history, self.log_messages):\n",
    "            log = log.copy()\n",
    "            \n",
    "            print()\n",
    "            print(message)\n",
    "            print(log)\n",
    "        \n",
    "    def parse_logs(self):\n",
    "        positions = []\n",
    "        velocities = []\n",
    "        fuels = []\n",
    "        times = []\n",
    "        for log in self.history:\n",
    "            positions.append(log['position'] / ly)\n",
    "            velocities.append(log['velocity'] / c)\n",
    "            fuels.append(log['fuel_mass'] / kg)\n",
    "            times.append(log['time'] / yr)\n",
    "        return positions, velocities, fuels, times\n",
    "        \n",
    "    def plot_history(self):\n",
    "        positions, velocities, fuels, times = self.parse_logs()\n",
    "        fig = plt.figure(figsize=(12, 12))\n",
    "        plt.subplot(311)\n",
    "        plt.plot(times, velocities)\n",
    "        plt.xlabel('Time (years)')\n",
    "        plt.ylabel('Velocity (c)')\n",
    "        plt.subplot(312)\n",
    "        plt.plot(times, fuels)\n",
    "        plt.xlabel('Time (years)')\n",
    "        plt.ylabel('Fuel Mass (kg)')\n",
    "        plt.subplot(313)\n",
    "        plt.plot(times, positions)\n",
    "        plt.xlabel('Time (years)')\n",
    "        plt.ylabel('Position (light years)')\n",
    "        plt.hlines(self.destination_distance / ly, \n",
    "                   min(times),\n",
    "                   max(times),\n",
    "                   label='Destination',\n",
    "                   linestyles='dashed')\n",
    "        plt.legend()\n",
    "        return fig\n",
    "        "
   ]
  },
  {
   "cell_type": "markdown",
   "metadata": {},
   "source": [
    "## Example: Simple Mission\n",
    "\n",
    "This example mission has a single acceleration phase and a single deceleration phase at the destination"
   ]
  },
  {
   "cell_type": "code",
   "execution_count": 97,
   "metadata": {},
   "outputs": [
    {
     "name": "stdout",
     "output_type": "stream",
     "text": [
      "\n",
      "\n",
      "{'time': 0.0*s, 'position': 0.0*m, 'velocity': 0.0*m*s**-1, 'fuel_mass': 1000.0*kg}\n",
      "\n",
      "year 0.0 - Waited: 1.00e+01 years. Distance=0.00e+00 lightyears\n",
      "{'time': 315576000.0*s, 'position': 0.0*m, 'velocity': 0.0*m*s**-1, 'fuel_mass': 1000.0*kg}\n",
      "\n",
      "year 10.0 - Acceleration: 1.0 g for 3.70e-03 years.  New velocity is 3.83e-03 c.  1.00e+02 kg of fuel remaining.\n",
      "{'time': 315809805.7352165*s, 'position': 67033105631.93772*m, 'velocity': 1146817.1312369807*m*s**-1, 'fuel_mass': 100.0*kg}\n",
      "\n",
      "year 10.0 - Cruise: 1.11e+03 years to complete. Distance=4.24e+00 lightyears\n",
      "{'time': 35324216034.10684*s, 'position': 4.014830703310563e+16*m, 'velocity': 1146817.1312369807*m*s**-1, 'fuel_mass': 100.0*kg}\n",
      "\n",
      "year 1119.4 - Acceleration: 1.0 g for 3.70e-03 years.  New velocity is 0.00e+00 c.  9.19e+00 kg of fuel remaining.\n",
      "{'time': 35324332936.97445*s, 'position': 4.014837406621126e+16*m, 'velocity': 0.0*m*s**-1, 'fuel_mass': 9.19080919080919*kg}\n",
      "\n",
      "year 1119.4 - Waited: 1.00e+01 years. Distance=0.00e+00 lightyears\n",
      "{'time': 35639908936.97445*s, 'position': 4.014837406621126e+16*m, 'velocity': 0.0*m*s**-1, 'fuel_mass': 9.19080919080919*kg}\n"
     ]
    }
   ],
   "source": [
    "ss = Starship(1.0 * kg, 1000.0 * kg)\n",
    "ss.wait(10 * yr)\n",
    "ti = ss.time\n",
    "ss.accelerate(fuel_mass = 900 * kg)\n",
    "t_accel = ss.time\n",
    "ss.cruise(ss.destination_distance)\n",
    "ss.accelerate(decelerate=True)\n",
    "ss.wait(10 * yr)\n",
    "ss.print_history()\n"
   ]
  },
  {
   "cell_type": "code",
   "execution_count": 98,
   "metadata": {},
   "outputs": [
    {
     "name": "stderr",
     "output_type": "stream",
     "text": [
      "/home/mazur/linstore/Software/anaconda3/envs/tf_2.2/lib/python3.7/site-packages/ipykernel_launcher.py:2: UserWarning: Matplotlib is currently using module://ipykernel.pylab.backend_inline, which is a non-GUI backend, so cannot show the figure.\n",
      "  \n"
     ]
    },
    {
     "data": {
      "image/png": "[encoded data removed]",
      "text/plain": [
       "<Figure size 864x864 with 3 Axes>"
      ]
     },
     "metadata": {
      "needs_background": "light"
     },
     "output_type": "display_data"
    }
   ],
   "source": [
    "fig = ss.plot_history()\n",
    "fig.show()"
   ]
  },
  {
   "cell_type": "code",
   "execution_count": 99,
   "metadata": {},
   "outputs": [],
   "source": [
    "fig.savefig('../images/proxima_centauri.png')"
   ]
  },
  {
   "cell_type": "markdown",
   "metadata": {},
   "source": [
    "## Example: Aborted mission\n",
    "\n",
    "In this mission, the crew decides to abort the mission at the half-way point and return to the destination."
   ]
  },
  {
   "cell_type": "code",
   "execution_count": 108,
   "metadata": {},
   "outputs": [
    {
     "name": "stdout",
     "output_type": "stream",
     "text": [
      "\n",
      "\n",
      "{'time': 0.0*s, 'position': 0.0*m, 'velocity': 0.0*m*s**-1, 'fuel_mass': 1000.0*kg}\n",
      "\n",
      "year 0.0 - Waited: 1.00e+01 years. Distance=0.00e+00 lightyears\n",
      "{'time': 315576000.0*s, 'position': 0.0*m, 'velocity': 0.0*m*s**-1, 'fuel_mass': 1000.0*kg}\n",
      "\n",
      "year 10.0 - Acceleration: 1.0 g for 3.70e-03 years.  New velocity is 3.83e-03 c.  1.00e+02 kg of fuel remaining.\n",
      "{'time': 315809805.7352165*s, 'position': 67033105631.93772*m, 'velocity': 1146817.1312369807*m*s**-1, 'fuel_mass': 100.0*kg}\n",
      "\n",
      "year 10.0 - Cruise: 5.55e+02 years to complete. Distance=2.12e+00 lightyears\n",
      "{'time': 17820012919.921032*s, 'position': 2.007418703310563e+16*m, 'velocity': 1146817.1312369807*m*s**-1, 'fuel_mass': 100.0*kg}\n",
      "\n",
      "year 564.7 - Acceleration: 1.0 g for 3.70e-03 years.  New velocity is 0.00e+00 c.  9.19e+00 kg of fuel remaining.\n",
      "{'time': 17820129822.78864*s, 'position': 2.0074254066211264e+16*m, 'velocity': 0.0*m*s**-1, 'fuel_mass': 9.19080919080919*kg}\n",
      "\n",
      "year 564.7 - Acceleration: 1.0 g for 3.75e-03 years.  New velocity is -3.87e-03 c.  0.00e+00 kg of fuel remaining.\n",
      "{'time': 17820366467.66676*s, 'position': 2.00741853952323e+16*m, 'velocity': -1160743.1271836492*m*s**-1, 'fuel_mass': 0.0*kg}\n",
      "\n",
      "year 564.7 - Cruise: 5.48e+02 years to complete. Distance=2.12e+00 lightyears\n",
      "{'time': 35114563202.39697*s, 'position': 65395232300.0*m, 'velocity': -1160743.1271836492*m*s**-1, 'fuel_mass': 0.0*kg}\n",
      "\n",
      "year 1112.7 - Waited: 1.00e+01 years. Distance=-3.87e-02 lightyears\n",
      "{'time': 35430139202.39697*s, 'position': -366237277871807.3*m, 'velocity': -1160743.1271836492*m*s**-1, 'fuel_mass': 0.0*kg}\n"
     ]
    }
   ],
   "source": [
    "ss = Starship(1.0 * kg, 1000.0 * kg)\n",
    "ss.wait(10 * yr)\n",
    "ss.accelerate(fuel_mass = 900 * kg)\n",
    "ss.cruise(ss.destination_distance / 2)\n",
    "ss.accelerate(decelerate=True)\n",
    "ss.accelerate(fuel_mass = ss.fuel_mass, decelerate=True)\n",
    "ss.cruise(ss.destination_distance / 2)\n",
    "ss.wait(10 * yr)\n",
    "ss.print_history()"
   ]
  },
  {
   "cell_type": "code",
   "execution_count": 109,
   "metadata": {},
   "outputs": [
    {
     "name": "stderr",
     "output_type": "stream",
     "text": [
      "/home/mazur/linstore/Software/anaconda3/envs/tf_2.2/lib/python3.7/site-packages/ipykernel_launcher.py:2: UserWarning: Matplotlib is currently using module://ipykernel.pylab.backend_inline, which is a non-GUI backend, so cannot show the figure.\n",
      "  \n"
     ]
    },
    {
     "data": {
      "image/png": "[encoded data removed]",
      "text/plain": [
       "<Figure size 864x864 with 3 Axes>"
      ]
     },
     "metadata": {
      "needs_background": "light"
     },
     "output_type": "display_data"
    }
   ],
   "source": [
    "fig = ss.plot_history()\n",
    "fig.show()"
   ]
  },
  {
   "cell_type": "code",
   "execution_count": 111,
   "metadata": {},
   "outputs": [],
   "source": [
    "fig.savefig('../images/proxima_centauri_aborted.png')"
   ]
  },
  {
   "cell_type": "code",
   "execution_count": null,
   "metadata": {},
   "outputs": [],
   "source": []
  }
 ],
 "metadata": {
  "kernelspec": {
   "display_name": "Python 3",
   "language": "python",
   "name": "python3"
  },
  "language_info": {
   "codemirror_mode": {
    "name": "ipython",
    "version": 3
   },
   "file_extension": ".py",
   "mimetype": "text/x-python",
   "name": "python",
   "nbconvert_exporter": "python",
   "pygments_lexer": "ipython3",
   "version": "3.7.7"
  }
 },
 "nbformat": 4,
 "nbformat_minor": 4
}
