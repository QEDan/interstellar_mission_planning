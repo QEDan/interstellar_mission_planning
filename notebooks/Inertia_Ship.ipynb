{
 "cells": [
  {
   "cell_type": "code",
   "execution_count": 1,
   "metadata": {},
   "outputs": [],
   "source": [
    "from scimath.units.length import meters as m\n",
    "from scimath.units.length import kilometers as km\n",
    "from scimath.units.length import light_year as ly\n",
    "from scimath.units.mass import kilograms as kg\n",
    "from scimath.units.time import seconds as s\n",
    "from scimath.units.time import years as yr\n",
    "from scimath.units.length import astronomical_unit\n",
    "import numpy as np\n",
    "import matplotlib.pyplot as plt\n",
    "import sys\n",
    "sys.path.append('../')\n",
    "from src.constants import G, c, solar_mass, g\n",
    "from src.utils import v_escape_solar\n",
    "from src.engine import Engine\n",
    "from src.starship import Starship\n",
    "from src.solar_sail import SolarSail\n",
    "from src.swimmer import Swimmer\n",
    "%matplotlib inline"
   ]
  },
  {
   "cell_type": "markdown",
   "metadata": {},
   "source": [
    "## Inertia Mission Planning\n",
    "\n",
    "This notebook is for planning mission scenarios discussed in the novel"
   ]
  },
  {
   "cell_type": "code",
   "execution_count": 21,
   "metadata": {},
   "outputs": [
    {
     "name": "stdout",
     "output_type": "stream",
     "text": [
      "Sail mass is 3825483539.323412 kg\n",
      "destination_distance: 4.244ly, position: 5.702565204153356e-05ly\n",
      "Achieved 89.77243514353913% of the target final velocity of 0.0015036544470592604c.\n",
      "destination_distance: 4.244ly, position: 4.326107539758412ly\n",
      "\n",
      "\n",
      "{'time': 0.0*s, 'position': 0.0*m, 'velocity': 0.0*m*s**-1, 'fuel_mass': 66000000000.0*kg}\n",
      "\n",
      "year 0.0 - Waited: 1.00e+01 years. Distance=0.00e+00 lightyears\n",
      "{'time': 315576000.0*s, 'position': 0.0*m, 'velocity': 0.0*m*s**-1, 'fuel_mass': 66000000000.0*kg}\n",
      "\n",
      "year 10.0 - Sailing with velocity 0.000999999999999332 m/s with acceleration 3.0000000000000004g.\n",
      "{'time': 315576000.000034*s, 'position': 1495980000.0*m, 'velocity': 0.000999999999999332*m*s**-1, 'fuel_mass': 66000000000.0*kg}\n",
      "\n",
      "year 10.0 - Sailing with velocity 0.01099999999999265 m/s with acceleration 3.0000000000000004g.\n",
      "{'time': 315576000.0003738*s, 'position': 1495980000.000002*m, 'velocity': 0.01099999999999265*m*s**-1, 'fuel_mass': 66000000000.0*kg}\n",
      "\n",
      "year 10.0 - Sailing with velocity 0.11099999999992584 m/s with acceleration 3.0g.\n",
      "{'time': 315576000.00377166*s, 'position': 1495980000.0002093*m, 'velocity': 0.11099999999992584*m*s**-1, 'fuel_mass': 66000000000.0*kg}\n",
      "\n",
      "year 10.0 - Sailing with velocity 1.1109999999992577 m/s with acceleration 3.0000000000000004g.\n",
      "{'time': 315576000.0377506*s, 'position': 1495980000.0209703*m, 'velocity': 1.1109999999992577*m*s**-1, 'fuel_mass': 66000000000.0*kg}\n",
      "\n",
      "year 10.0 - Sailing with velocity 11.110999999992575 m/s with acceleration 3.0000000000000004g.\n",
      "{'time': 315576000.37753993*s, 'position': 1495980002.0974226*m, 'velocity': 11.110999999992575*m*s**-1, 'fuel_mass': 66000000000.0*kg}\n",
      "\n",
      "year 10.0 - Sailing with velocity 111.11099999992575 m/s with acceleration 3.0000000000000004g.\n",
      "{'time': 315576003.77543324*s, 'position': 1495980209.7460804*m, 'velocity': 111.11099999992575*m*s**-1, 'fuel_mass': 66000000000.0*kg}\n",
      "\n",
      "year 10.0 - Sailing with velocity 1111.1109999992575 m/s with acceleration 3.0000000000000004g.\n",
      "{'time': 315576037.7543663*s, 'position': 1496000974.6458426*m, 'velocity': 1111.1109999992575*m*s**-1, 'fuel_mass': 66000000000.0*kg}\n",
      "\n",
      "year 10.0 - Sailing with velocity 11111.110999992574 m/s with acceleration 3.0000000000000004g.\n",
      "{'time': 315576377.5436969*s, 'position': 1498077464.9618444*m, 'velocity': 11111.110999992574*m*s**-1, 'fuel_mass': 66000000000.0*kg}\n",
      "\n",
      "year 10.0 - Sailing with velocity 111111.11099992575 m/s with acceleration 3.0000000000000004g.\n",
      "{'time': 315579775.437003*s, 'position': 1705726499.9598675*m, 'velocity': 111111.11099992575*m*s**-1, 'fuel_mass': 66000000000.0*kg}\n",
      "\n",
      "year 10.0 - Sailing with velocity 354129.7649136792 m/s with acceleration 2.2009798993133085g.\n",
      "{'time': 315591030.6709694*s, 'position': 4620488606.632676*m, 'velocity': 354129.7649136792*m*s**-1, 'fuel_mass': 66000000000.0*kg}\n",
      "\n",
      "year 10.0 - Sailing with velocity 402279.2036376415 m/s with acceleration 0.46946557069386585g.\n",
      "{'time': 315601485.53703934*s, 'position': 8626515615.831177*m, 'velocity': 402279.2036376415*m*s**-1, 'fuel_mass': 66000000000.0*kg}\n",
      "\n",
      "year 10.0 - Sailing with velocity 427885.0454632058 m/s with acceleration 0.12362248431881487g.\n",
      "{'time': 315622599.6375244*s, 'position': 17453440331.705475*m, 'velocity': 427885.0454632058*m*s**-1, 'fuel_mass': 66000000000.0*kg}\n",
      "\n",
      "year 10.0 - Sailing with velocity 440430.6330587428 m/s with acceleration 0.028986697685702747g.\n",
      "{'time': 315666718.3935567*s, 'position': 36675691245.32507*m, 'velocity': 440430.6330587428*m*s**-1, 'fuel_mass': 66000000000.0*kg}\n",
      "\n",
      "year 10.0 - Sailing with velocity 446542.7029073367 m/s with acceleration 0.0062297202583071025g.\n",
      "{'time': 315766730.08122873*s, 'position': 81109467801.91449*m, 'velocity': 446542.7029073367*m*s**-1, 'fuel_mass': 66000000000.0*kg}\n",
      "\n",
      "year 10.0 - Sailing with velocity 449428.85886863415 m/s with acceleration 0.0011900804032477328g.\n",
      "{'time': 316013944.8911181*s, 'position': 191959395908.3277*m, 'velocity': 449428.85886863415*m*s**-1, 'fuel_mass': 66000000000.0*kg}\n",
      "\n",
      "year 10.0 - Sailing with velocity 450713.17780678894 m/s with acceleration 0.00019614218507786838g.\n",
      "{'time': 316681416.61136824*s, 'position': 492502026832.82025*m, 'velocity': 450713.17780678894*m*s**-1, 'fuel_mass': 66000000000.0*kg}\n",
      "\n",
      "year 10.0 - Sailing with velocity 450784.26266652654 m/s with acceleration 6.955200024971488e-05g.\n",
      "{'time': 316785600.0*s, 'position': 539462668312.90753*m, 'velocity': 450784.26266652654*m*s**-1, 'fuel_mass': 66000000000.0*kg}\n",
      "\n",
      "year 10.0 - Finished sailing. velocity 450784.26266652654 m/s. Traveling at 89.8% of maximum sail velocity. Sailing time was 14.0 days.\n",
      "{'time': 316785600.0*s, 'position': 539462668312.90753*m, 'velocity': 450784.26266652654*m*s**-1, 'fuel_mass': 66000000000.0*kg}\n",
      "\n",
      "year 59.8 - Acceleration: 0.0000 g for 4.97e+01 years.  New velocity is 1.80e-03 c.  3.30e+10 kg of fuel remaining.\n",
      "{'time': 3454643547.7445927*s, 'position': 777816251451203.6*m, 'velocity': 540053.1834219125*m*s**-1, 'fuel_mass': 33000000000.0*kg}\n",
      "\n",
      "year 109.5 - Cruise: 2.31e+03 years to complete. Distance=4.16e+00 lightyears\n",
      "{'time': 76354656906.47165*s, 'position': 4.014770053733169e+16*m, 'velocity': 540053.1834219125*m*s**-1, 'fuel_mass': 33000000000.0*kg}\n",
      "\n",
      "year 2419.5 - Acceleration: 0.0000 g for 4.97e+01 years.  New velocity is 1.50e-03 c.  1.62e+10 kg of fuel remaining.\n",
      "{'time': 77923585880.34395*s, 'position': 4.092497732611458e+16*m, 'velocity': 450784.26266652654*m*s**-1, 'fuel_mass': 16187252187.92038*kg}\n",
      "\n",
      "year 2469.2 - Sailing with velocity 450784.26266652654 m/s with acceleration 0.0g.\n",
      "{'time': 77923585880.34406*s, 'position': 4.092497732611462e+16*m, 'velocity': 450784.26266652654*m*s**-1, 'fuel_mass': 16187252187.92038*kg}\n",
      "\n",
      "year 2469.2 - Finished sailing. velocity 450784.26266652654 m/s. Traveling at 51476.4% of maximum sail velocity. Sailing time was 1.1574074074074074e-09 days.\n",
      "{'time': 77923585880.34406*s, 'position': 4.092497732611462e+16*m, 'velocity': 450784.26266652654*m*s**-1, 'fuel_mass': 16187252187.92038*kg}\n",
      "\n",
      "year 2469.2 - Waited: 1.00e+01 years. Distance=1.50e-02 lightyears\n",
      "{'time': 78239161880.34406*s, 'position': 4.106723402058987e+16*m, 'velocity': 450784.26266652654*m*s**-1, 'fuel_mass': 16187252187.92038*kg}\n"
     ]
    }
   ],
   "source": [
    "initial_fuel_mass = 6.6e10 * kg\n",
    "sail_area_density = 0.00003 * kg / m**2  # Carbon nanotube sheets\n",
    "sail_radius = 6371 * km\n",
    "sail_mass = sail_radius**2 * np.pi * sail_area_density\n",
    "print(f'Sail mass is {sail_mass / kg} kg')\n",
    "solar_sail = SolarSail(sail_mass, sail_radius, reflectivity=0.98)\n",
    "eng = {'main': Engine(initial_fuel_mass)}\n",
    "total_distance = 4.244 * ly\n",
    "ss = Starship(6.6e10 * kg, eng, solar_sail=solar_sail, destination_distance=total_distance)\n",
    "\n",
    "\n",
    "ss.wait(10 * yr)\n",
    "initial_distance_to_sun = 0.01 * astronomical_unit\n",
    "ti = ss.time\n",
    "ss.position = initial_distance_to_sun\n",
    "ss.sail(None, \n",
    "        position_of_star=0.0 * m,\n",
    "        max_accel=3.0 * g)\n",
    "tf = ss.time\n",
    "distance_after_sail = ss.position\n",
    "print(f'destination_distance: {ss.destination_distance / ly}ly, position: {ss.position / ly}ly')\n",
    "expected_sail_velocity = ss.solar_sail.final_velocity(ss.total_mass() - ss.solar_sail.sail_mass, initial_distance_to_sun)\n",
    "sail_velocity = ss.velocity\n",
    "print(f'Achieved {ss.velocity / expected_sail_velocity * 100}% of the target final velocity of {sail_velocity / c}c.')\n",
    "# print(f'Sail time is {(tf - ti) / (3600 * 24 * s)} days.')\n",
    "ss.accelerate(fuel_mass=0.5 * initial_fuel_mass, acceleration=0.0000058 * g)\n",
    "ss.cruise(total_distance - ss.position - distance_after_sail)\n",
    "ss.accelerate(target_velocity=sail_velocity, direction=-1, acceleration=0.0000058 * g)\n",
    "\n",
    "print(f'destination_distance: {ss.destination_distance / ly}ly, position: {ss.position / ly}ly')\n",
    "\n",
    "ss.sail(None,\n",
    "        total_distance,\n",
    "        max_accel=3.0 * g\n",
    "        )\n",
    "# try:\n",
    "#     ss.accelerate(direction=-1)\n",
    "# except ValueError:\n",
    "#     ss.accelerate(direction=-1, fuel_mass=ss.fuel_mass())\n",
    "ss.wait(10 * yr)\n",
    "ss.print_history()\n"
   ]
  },
  {
   "cell_type": "code",
   "execution_count": 22,
   "metadata": {},
   "outputs": [
    {
     "name": "stderr",
     "output_type": "stream",
     "text": [
      "<ipython-input-22-08476407d92d>:2: UserWarning: Matplotlib is currently using module://ipykernel.pylab.backend_inline, which is a non-GUI backend, so cannot show the figure.\n",
      "  fig.show()\n"
     ]
    },
    {
     "data": {
      "image/png": "[encoded data removed]",
      "text/plain": [
       "<Figure size 864x864 with 3 Axes>"
      ]
     },
     "metadata": {
      "needs_background": "light"
     },
     "output_type": "display_data"
    }
   ],
   "source": [
    "fig = ss.plot_history(show_destination=True)\n",
    "fig.show()"
   ]
  },
  {
   "cell_type": "markdown",
   "metadata": {},
   "source": [
    "## Example: SWIMMER mission abort"
   ]
  },
  {
   "cell_type": "code",
   "execution_count": null,
   "metadata": {},
   "outputs": [],
   "source": [
    "initial_fuel_mass = 6.6e10 * kg\n",
    "sail_area_density = 0.00003 * kg / m**2  # Carbon nanotube sheets\n",
    "sail_radius = 6371 * km\n",
    "sail_mass = sail_radius**2 * np.pi * sail_area_density\n",
    "print(f'Sail mass is {sail_mass / kg} kg')\n",
    "solar_sail = SolarSail(sail_mass, sail_radius, reflectivity=0.98)\n",
    "graphene_density = 0.763e-6 * kg / m ** 2\n",
    "pusher_area = np.pi * (7.0e8 * m) ** 2\n",
    "swimmer = Swimmer(pusher_area, graphene_density)\n",
    "eng = {'main': Engine(initial_fuel_mass)}\n",
    "total_distance = 4.244 * ly\n",
    "ss = Starship(6.6e10 * kg, eng, solar_sail=solar_sail, swimmer=swimmer, destination_distance=total_distance)\n",
    "\n",
    "\n",
    "ss.wait(10 * yr)\n",
    "initial_distance_to_sun = 0.01 * astronomical_unit\n",
    "ti = ss.time\n",
    "ss.sail(None, \n",
    "        relative_position_to_star=initial_distance_to_sun,\n",
    "        max_accel=3.0 * g)\n",
    "tf = ss.time\n",
    "distance_after_sail = ss.position\n",
    "print(f'destination_distance: {ss.destination_distance / ly}ly, position: {ss.position / ly}ly')\n",
    "expected_sail_velocity = ss.solar_sail.final_velocity(ss.total_mass() - ss.solar_sail.sail_mass, initial_distance_to_sun)\n",
    "sail_velocity = ss.velocity\n",
    "print(f'Achieved {ss.velocity / expected_sail_velocity * 100}% of the target final velocity of {sail_velocity / c}c.')\n",
    "# print(f'Sail time is {(tf - ti) / (3600 * 24 * s)} days.')\n",
    "ss.accelerate(fuel_mass=0.5 * initial_fuel_mass, acceleration=0.0000058 * g)\n",
    "\n",
    "\n",
    "swim_power = 3.0e15 * kg * m ** 2 / s ** 3\n",
    "# TODO: We will likely want to run engines at slow speeds.\n",
    "ss.swim(swim_power, 25 * yr, reverse=True)\n",
    "ss.accelerate(fuel_mass=0.2 * initial_fuel_mass, acceleration=0.0000058 * g, decelerate=True)\n",
    "ss.swim(swim_power, 10 * yr, reverse=True)\n",
    "ss.cruise(ss.position - distance_after_sail)\n",
    "# ss.accelerate(target_velocity=sail_velocity, decelerate=True, acceleration=0.0000058 * g)\n",
    "\n",
    "print(f'destination_distance: {ss.destination_distance / ly}ly, position: {ss.position / ly}ly')\n",
    "\n",
    "ss.sail(1.0e-22 * c,\n",
    "        relative_position_to_star=-1.0 * distance_after_sail,\n",
    "        max_accel=3.0 * g\n",
    "        )\n",
    "try:\n",
    "    ss.accelerate()\n",
    "except ValueError:\n",
    "    ss.accelerate(fuel_mass=ss.fuel_mass())\n",
    "ss.wait(10 * yr)\n",
    "ss.print_history()\n"
   ]
  },
  {
   "cell_type": "code",
   "execution_count": null,
   "metadata": {},
   "outputs": [],
   "source": [
    "fig = ss.plot_history(show_destination=False)\n",
    "fig.show()"
   ]
  },
  {
   "cell_type": "code",
   "execution_count": null,
   "metadata": {},
   "outputs": [],
   "source": [
    "# fig.savefig('../images/proxima_centauri.png')"
   ]
  },
  {
   "cell_type": "markdown",
   "metadata": {},
   "source": [
    "## Example: Aborted mission\n",
    "\n",
    "In this mission, the crew decides to abort the mission at the half-way point and return to the destination."
   ]
  },
  {
   "cell_type": "code",
   "execution_count": null,
   "metadata": {},
   "outputs": [],
   "source": [
    "eng = {'main': Engine(1000.0 * kg)}\n",
    "ss = Starship(1.0 * kg, eng)\n",
    "ss.wait(10 * yr)\n",
    "ss.accelerate(fuel_mass = 900 * kg)\n",
    "ss.cruise(ss.destination_distance / 2)\n",
    "ss.accelerate(decelerate=True)\n",
    "ss.accelerate(fuel_mass = ss.fuel_mass(), decelerate=True)\n",
    "ss.cruise(ss.destination_distance / 2)\n",
    "ss.wait(10 * yr)\n",
    "ss.print_history()"
   ]
  },
  {
   "cell_type": "code",
   "execution_count": null,
   "metadata": {},
   "outputs": [],
   "source": [
    "fig = ss.plot_history()\n",
    "fig.show()"
   ]
  },
  {
   "cell_type": "code",
   "execution_count": null,
   "metadata": {},
   "outputs": [],
   "source": [
    "# fig.savefig('../images/proxima_centauri_aborted.png')"
   ]
  },
  {
   "cell_type": "markdown",
   "metadata": {},
   "source": [
    "# Example: Solar Sail And Rocket Mission"
   ]
  },
  {
   "cell_type": "code",
   "execution_count": null,
   "metadata": {},
   "outputs": [],
   "source": [
    "eng = {'main': Engine(1000.0 * kg)}\n",
    "solar_sail = SolarSail(0.1 * kg, 1000.0 * m)\n",
    "ss = Starship(1.0 * kg, eng, solar_sail=solar_sail, destination_distance=0.01 * ly)\n",
    "ss.sail(None)\n",
    "# ss.accelerate(fuel_mass = 900 * kg)\n",
    "ss.cruise(ss.destination_distance - ss.position)\n",
    "ss.accelerate(decelerate=True)\n",
    "ss.wait(10 * yr)\n",
    "ss.print_history()"
   ]
  },
  {
   "cell_type": "code",
   "execution_count": null,
   "metadata": {},
   "outputs": [],
   "source": [
    "fig = ss.plot_history()\n",
    "fig.show()"
   ]
  },
  {
   "cell_type": "code",
   "execution_count": null,
   "metadata": {},
   "outputs": [],
   "source": []
  }
 ],
 "metadata": {
  "kernelspec": {
   "display_name": "Python 3",
   "language": "python",
   "name": "python3"
  },
  "language_info": {
   "codemirror_mode": {
    "name": "ipython",
    "version": 3
   },
   "file_extension": ".py",
   "mimetype": "text/x-python",
   "name": "python",
   "nbconvert_exporter": "python",
   "pygments_lexer": "ipython3",
   "version": "3.9.1"
  }
 },
 "nbformat": 4,
 "nbformat_minor": 4
}
