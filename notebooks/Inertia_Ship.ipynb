{
 "cells": [
  {
   "cell_type": "code",
   "execution_count": 1,
   "metadata": {},
   "outputs": [],
   "source": [
    "from scimath.units.length import meters as m\n",
    "from scimath.units.length import kilometers as km\n",
    "from scimath.units.length import light_year as ly\n",
    "from scimath.units.mass import kilograms as kg\n",
    "from scimath.units.time import seconds as s\n",
    "from scimath.units.time import years as yr\n",
    "from scimath.units.length import astronomical_unit\n",
    "import numpy as np\n",
    "import matplotlib.pyplot as plt\n",
    "import sys\n",
    "sys.path.append('../')\n",
    "from src.constants import G, c, solar_mass, g\n",
    "from src.utils import v_escape_solar\n",
    "from src.engine import Engine\n",
    "from src.starship import Starship\n",
    "from src.solar_sail import SolarSail\n",
    "%matplotlib inline"
   ]
  },
  {
   "cell_type": "markdown",
   "metadata": {},
   "source": [
    "## Inertia Mission Planning\n",
    "\n",
    "This notebook is for planning mission scenarios discussed in the novel"
   ]
  },
  {
   "cell_type": "code",
   "execution_count": 20,
   "metadata": {},
   "outputs": [
    {
     "name": "stdout",
     "output_type": "stream",
     "text": [
      "Sail mass is 3825483539.323412 kg\n",
      "Final sailing velocity has converged.\n",
      "destination_distance: 4.244ly, position: 2.1063152562427174e-05ly\n",
      "Achieved 89.57750024942914% of the target final velocity of 0.001500389361067699c.\n",
      "destination_distance: 4.244ly, position: 4.325981161535758ly\n",
      "Final sailing velocity has converged.\n",
      "\n",
      "\n",
      "{'time': 0.0*s, 'position': 0.0*m, 'velocity': 0.0*m*s**-1, 'fuel_mass': 66000000000.0*kg}\n",
      "\n",
      "year 0.0 - Waited: 1.00e+01 years. Distance=0.00e+00 lightyears\n",
      "{'time': 315576000.0*s, 'position': 0.0*m, 'velocity': 0.0*m*s**-1, 'fuel_mass': 66000000000.0*kg}\n",
      "\n",
      "year 10.0 - Sailing with velocity 29.43 m/s with acceleration 3.0g.\n",
      "{'time': 315576001.0*s, 'position': 0.0*m, 'velocity': 29.43*m*s**-1, 'fuel_mass': 66000000000.0*kg}\n",
      "\n",
      "year 10.0 - Sailing with velocity 441856.60215620795 m/s with acceleration 0.011119565236293457g.\n",
      "{'time': 315676001.0*s, 'position': 39270179876.92049*m, 'velocity': 441856.60215620795*m*s**-1, 'fuel_mass': 66000000000.0*kg}\n",
      "\n",
      "year 10.0 - Sailing with velocity 447078.6386635478 m/s with acceleration 0.002541140745905242g.\n",
      "{'time': 315776001.0*s, 'position': 83780038782.93968*m, 'velocity': 447078.6386635478*m*s**-1, 'fuel_mass': 66000000000.0*kg}\n",
      "\n",
      "year 10.0 - Sailing with velocity 448713.31647120946 m/s with acceleration 0.0010921433006454142g.\n",
      "{'time': 315876001.0*s, 'position': 128581071706.22809*m, 'velocity': 448713.31647120946*m*s**-1, 'fuel_mass': 66000000000.0*kg}\n",
      "\n",
      "year 10.0 - Sailing with velocity 449509.782154645 m/s with acceleration 0.0006034526308615469g.\n",
      "{'time': 315976001.0*s, 'position': 173496152150.02402*m, 'velocity': 449509.782154645*m*s**-1, 'fuel_mass': 66000000000.0*kg}\n",
      "\n",
      "year 10.0 - Finished sailing. velocity 449805.41451153497 m/s. Traveling at 89.6% of maximum sail velocity. Sailing time was 5.292719907407408 days.\n",
      "{'time': 316033291.0*s, 'position': 199257423240.56107*m, 'velocity': 449805.41451153497*m*s**-1, 'fuel_mass': 66000000000.0*kg}\n",
      "\n",
      "year 59.7 - Acceleration: 0.0000 g for 4.97e+01 years.  New velocity is 1.80e-03 c.  3.30e+10 kg of fuel remaining.\n",
      "{'time': 3453891238.7445927*s, 'position': 775940302974743.5*m, 'velocity': 539074.3352669209*m*s**-1, 'fuel_mass': 33000000000.0*kg}\n",
      "\n",
      "year 109.4 - Cruise: 2.31e+03 years to complete. Distance=4.16e+00 lightyears\n",
      "{'time': 76490387068.40982*s, 'position': 4.014804074257676e+16*m, 'velocity': 539074.3352669209*m*s**-1, 'fuel_mass': 33000000000.0*kg}\n",
      "\n",
      "year 2423.8 - Acceleration: 0.0000 g for 4.97e+01 years.  New velocity is 1.50e-03 c.  1.62e+10 kg of fuel remaining.\n",
      "{'time': 78059316042.28212*s, 'position': 4.0923781788128264e+16*m, 'velocity': 449805.41451153497*m*s**-1, 'fuel_mass': 16187252187.920395*kg}\n",
      "\n",
      "year 2473.6 - Sailing with velocity 449805.40741411014 m/s with acceleration 0.0007234887664977073g.\n",
      "{'time': 78059316043.28212*s, 'position': 4.092378178857807e+16*m, 'velocity': 449805.40741411014*m*s**-1, 'fuel_mass': 16187252187.920395*kg}\n",
      "\n",
      "year 2473.6 - Sailing with velocity 448888.90162710514 m/s with acceleration 0.0012062104190602438g.\n",
      "{'time': 78059416043.28212*s, 'position': 4.09238267271892e+16*m, 'velocity': 448888.90162710514*m*s**-1, 'fuel_mass': 16187252187.920395*kg}\n",
      "\n",
      "year 2473.6 - Sailing with velocity 447220.9813464515 m/s with acceleration 0.0023955338673194884g.\n",
      "{'time': 78059516043.28212*s, 'position': 4.092387154218401e+16*m, 'velocity': 447220.9813464515*m*s**-1, 'fuel_mass': 16187252187.920395*kg}\n",
      "\n",
      "year 2473.6 - Sailing with velocity 443255.5927728856 m/s with acceleration 0.006810189091656269g.\n",
      "{'time': 78059616043.28212*s, 'position': 4.092391610023201e+16*m, 'velocity': 443255.5927728856*m*s**-1, 'fuel_mass': 16187252187.920395*kg}\n",
      "\n",
      "year 2473.6 - Sailing with velocity 422693.5206872641 m/s with acceleration 0.06342851384820086g.\n",
      "{'time': 78059716043.28212*s, 'position': 4.092395976516483e+16*m, 'velocity': 422693.5206872641*m*s**-1, 'fuel_mass': 16187252187.920395*kg}\n",
      "\n",
      "year 2473.6 - Finished sailing. velocity -7.915254904284758 m/s. Traveling at -0.0% of maximum sail velocity. Sailing time was 5.263969907407407 days.\n",
      "{'time': 78059770849.28212*s, 'position': 4.092397834257215e+16*m, 'velocity': -7.915254904284758*m*s**-1, 'fuel_mass': 16187252187.920395*kg}\n",
      "\n",
      "year 2473.6 - Acceleration: 1.0000 g for 2.56e-08 years.  New velocity is 0.00e+00 c.  1.62e+10 kg of fuel remaining.\n",
      "{'time': 78059770850.08897*s, 'position': 4.092397834257214e+16*m, 'velocity': 0.0*m*s**-1, 'fuel_mass': 16185890573.241364*kg}\n",
      "\n",
      "year 2473.6 - Waited: 1.00e+01 years. Distance=0.00e+00 lightyears\n",
      "{'time': 78375346850.08897*s, 'position': 4.092397834257214e+16*m, 'velocity': 0.0*m*s**-1, 'fuel_mass': 16185890573.241364*kg}\n"
     ]
    }
   ],
   "source": [
    "initial_fuel_mass = 6.6e10 * kg\n",
    "sail_area_density = 0.00003 * kg / m**2  # Carbon nanotube sheets\n",
    "sail_radius = 6371 * km\n",
    "sail_mass = sail_radius**2 * np.pi * sail_area_density\n",
    "print(f'Sail mass is {sail_mass / kg} kg')\n",
    "solar_sail = SolarSail(sail_mass, sail_radius, reflectivity=0.98)\n",
    "eng = {'main': Engine(initial_fuel_mass)}\n",
    "total_distance = 4.244 * ly\n",
    "ss = Starship(6.6e10 * kg, eng, solar_sail=solar_sail, destination_distance=total_distance)\n",
    "\n",
    "\n",
    "ss.wait(10 * yr)\n",
    "initial_distance_to_sun = 0.01 * astronomical_unit\n",
    "ti = ss.time\n",
    "ss.sail(None, \n",
    "        time_step=1.0 * s, \n",
    "        max_iterations=1e6, \n",
    "        initial_distance_to_star=initial_distance_to_sun,\n",
    "        max_accel=3.0 * g,\n",
    "        log_freq=100000)\n",
    "tf = ss.time\n",
    "distance_after_sail = ss.position\n",
    "print(f'destination_distance: {ss.destination_distance / ly}ly, position: {ss.position / ly}ly')\n",
    "expected_sail_velocity = ss.solar_sail.final_velocity(ss.total_mass() - ss.solar_sail.sail_mass, initial_distance_to_sun)\n",
    "sail_velocity = ss.velocity\n",
    "print(f'Achieved {ss.velocity / expected_sail_velocity * 100}% of the target final velocity of {sail_velocity / c}c.')\n",
    "# print(f'Sail time is {(tf - ti) / (3600 * 24 * s)} days.')\n",
    "ss.accelerate(fuel_mass=0.5 * initial_fuel_mass, acceleration=0.0000058 * g)\n",
    "ss.cruise(ss.destination_distance - ss.position - distance_after_sail)\n",
    "ss.accelerate(target_velocity=sail_velocity, decelerate=True, acceleration=0.0000058 * g)\n",
    "\n",
    "print(f'destination_distance: {ss.destination_distance / ly}ly, position: {ss.position / ly}ly')\n",
    "\n",
    "ss.sail(1.0e-22 * c,\n",
    "        time_step=1.0*s,\n",
    "        max_iterations=1e6,\n",
    "        initial_distance_to_star=distance_after_sail,\n",
    "        max_accel=3.0 * g,\n",
    "        log_freq=100000,\n",
    "        decelerate=True\n",
    "        )\n",
    "try:\n",
    "    ss.accelerate(decelerate=True)\n",
    "except ValueError:\n",
    "    ss.accelerate(decelerate=True, fuel_mass=ss.fuel_mass())\n",
    "ss.wait(10 * yr)\n",
    "ss.print_history()\n"
   ]
  },
  {
   "cell_type": "code",
   "execution_count": 21,
   "metadata": {},
   "outputs": [
    {
     "name": "stderr",
     "output_type": "stream",
     "text": [
      "<ipython-input-21-1c9e92bbb860>:2: UserWarning: Matplotlib is currently using module://ipykernel.pylab.backend_inline, which is a non-GUI backend, so cannot show the figure.\n",
      "  fig.show()\n"
     ]
    },
    {
     "data": {
      "image/png": "[encoded data removed]",
      "text/plain": [
       "<Figure size 864x864 with 3 Axes>"
      ]
     },
     "metadata": {
      "needs_background": "light"
     },
     "output_type": "display_data"
    }
   ],
   "source": [
    "fig = ss.plot_history()\n",
    "fig.show()"
   ]
  },
  {
   "cell_type": "code",
   "execution_count": null,
   "metadata": {},
   "outputs": [],
   "source": [
    "# fig.savefig('../images/proxima_centauri.png')"
   ]
  },
  {
   "cell_type": "markdown",
   "metadata": {},
   "source": [
    "## Example: Aborted mission\n",
    "\n",
    "In this mission, the crew decides to abort the mission at the half-way point and return to the destination."
   ]
  },
  {
   "cell_type": "code",
   "execution_count": null,
   "metadata": {},
   "outputs": [],
   "source": [
    "eng = {'main': Engine(1000.0 * kg)}\n",
    "ss = Starship(1.0 * kg, eng)\n",
    "ss.wait(10 * yr)\n",
    "ss.accelerate(fuel_mass = 900 * kg)\n",
    "ss.cruise(ss.destination_distance / 2)\n",
    "ss.accelerate(decelerate=True)\n",
    "ss.accelerate(fuel_mass = ss.fuel_mass(), decelerate=True)\n",
    "ss.cruise(ss.destination_distance / 2)\n",
    "ss.wait(10 * yr)\n",
    "ss.print_history()"
   ]
  },
  {
   "cell_type": "code",
   "execution_count": null,
   "metadata": {},
   "outputs": [],
   "source": [
    "fig = ss.plot_history()\n",
    "fig.show()"
   ]
  },
  {
   "cell_type": "code",
   "execution_count": null,
   "metadata": {},
   "outputs": [],
   "source": [
    "# fig.savefig('../images/proxima_centauri_aborted.png')"
   ]
  },
  {
   "cell_type": "markdown",
   "metadata": {},
   "source": [
    "# Example: Solar Sail And Rocket Mission"
   ]
  },
  {
   "cell_type": "code",
   "execution_count": null,
   "metadata": {},
   "outputs": [],
   "source": [
    "eng = {'main': Engine(1000.0 * kg)}\n",
    "solar_sail = SolarSail(0.1 * kg, 1000.0 * m)\n",
    "ss = Starship(1.0 * kg, eng, solar_sail=solar_sail, destination_distance=0.01 * ly)\n",
    "ss.sail(None)\n",
    "# ss.accelerate(fuel_mass = 900 * kg)\n",
    "ss.cruise(ss.destination_distance - ss.position)\n",
    "ss.accelerate(decelerate=True)\n",
    "ss.wait(10 * yr)\n",
    "ss.print_history()"
   ]
  },
  {
   "cell_type": "code",
   "execution_count": null,
   "metadata": {},
   "outputs": [],
   "source": [
    "fig = ss.plot_history()\n",
    "fig.show()"
   ]
  },
  {
   "cell_type": "code",
   "execution_count": null,
   "metadata": {},
   "outputs": [],
   "source": []
  }
 ],
 "metadata": {
  "kernelspec": {
   "display_name": "Python 3",
   "language": "python",
   "name": "python3"
  },
  "language_info": {
   "codemirror_mode": {
    "name": "ipython",
    "version": 3
   },
   "file_extension": ".py",
   "mimetype": "text/x-python",
   "name": "python",
   "nbconvert_exporter": "python",
   "pygments_lexer": "ipython3",
   "version": "3.9.1"
  }
 },
 "nbformat": 4,
 "nbformat_minor": 4
}
